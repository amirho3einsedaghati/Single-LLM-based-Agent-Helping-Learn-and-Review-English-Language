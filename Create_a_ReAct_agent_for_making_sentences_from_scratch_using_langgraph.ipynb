{
  "nbformat": 4,
  "nbformat_minor": 0,
  "metadata": {
    "colab": {
      "provenance": []
    },
    "kernelspec": {
      "name": "python3",
      "display_name": "Python 3"
    },
    "language_info": {
      "name": "python"
    }
  },
  "cells": [
    {
      "cell_type": "markdown",
      "source": [
        "Using the prebuilt ReAct agent, the create_react_agent function in the langraph library is a great way to get started, but sometimes you might want more control and customization. In those cases, you can create a custom ReAct agent. This guide shows how to implement ReAct agent from scratch using LangGraph."
      ],
      "metadata": {
        "id": "h0QVTxx7191t"
      }
    },
    {
      "cell_type": "markdown",
      "source": [
        "# Setup\n",
        "\n",
        "First, let's install the required packages and set our API keys:"
      ],
      "metadata": {
        "id": "4B8Yy_7j2EUC"
      }
    },
    {
      "cell_type": "code",
      "execution_count": null,
      "metadata": {
        "id": "AUzgzNSimriH"
      },
      "outputs": [],
      "source": [
        "%%capture --no-stderr\n",
        "%pip install -U langgraph langchain-openai"
      ]
    },
    {
      "cell_type": "code",
      "source": [
        "import getpass\n",
        "import os\n",
        "\n",
        "\n",
        "def _set_env(var: str):\n",
        "    if not os.environ.get(var):\n",
        "        os.environ[var] = getpass.getpass(f\"{var}: \")\n",
        "\n",
        "\n",
        "_set_env(\"NVIDIA_API_KEY\")"
      ],
      "metadata": {
        "colab": {
          "base_uri": "https://localhost:8080/"
        },
        "id": "oohJgP-w2ZQ3",
        "outputId": "9d20b702-e561-4b92-902c-f1110ff02187"
      },
      "execution_count": null,
      "outputs": [
        {
          "name": "stdout",
          "output_type": "stream",
          "text": [
            "NVIDIA_API_KEY: ··········\n"
          ]
        }
      ]
    },
    {
      "cell_type": "markdown",
      "source": [
        "# Create ReAct agent\n",
        "Now that you have installed the required packages and set your environment variables, we can code our ReAct agent!\n",
        "\n",
        "# Define graph state\n",
        "We are going to define the most basic ReAct state in this example, which will just contain a list of messages.\n",
        "\n",
        "For your specific use case, feel free to add any other state keys that you need."
      ],
      "metadata": {
        "id": "N3a7ba4y5al0"
      }
    },
    {
      "cell_type": "code",
      "source": [
        "from typing import (\n",
        "    Annotated,\n",
        "    Sequence,\n",
        "    TypedDict,\n",
        ")\n",
        "from langchain_core.messages import BaseMessage\n",
        "from langgraph.graph.message import add_messages\n",
        "\n",
        "\n",
        "class AgentState(TypedDict):\n",
        "    \"\"\"The state of the agent.\"\"\"\n",
        "\n",
        "    # add_messages is a reducer\n",
        "    # See https://langchain-ai.github.io/langgraph/concepts/low_level/#reducers\n",
        "    messages: Annotated[Sequence[BaseMessage], add_messages]"
      ],
      "metadata": {
        "id": "9QltkRKX3ieX"
      },
      "execution_count": null,
      "outputs": []
    },
    {
      "cell_type": "markdown",
      "source": [
        "# Define model and tools\n",
        "Next, let's define the tools and model we will use for our example."
      ],
      "metadata": {
        "id": "wdVX3IAW52sE"
      }
    },
    {
      "cell_type": "code",
      "source": [
        "!pip install langchain-nvidia-ai-endpoints"
      ],
      "metadata": {
        "colab": {
          "base_uri": "https://localhost:8080/"
        },
        "id": "HJnk4EjJAtvR",
        "outputId": "813c92b9-a312-4566-b155-87339d67b8ce"
      },
      "execution_count": null,
      "outputs": [
        {
          "output_type": "stream",
          "name": "stdout",
          "text": [
            "Requirement already satisfied: langchain-nvidia-ai-endpoints in /usr/local/lib/python3.11/dist-packages (0.3.9)\n",
            "Requirement already satisfied: aiohttp<4.0.0,>=3.9.1 in /usr/local/lib/python3.11/dist-packages (from langchain-nvidia-ai-endpoints) (3.11.15)\n",
            "Requirement already satisfied: langchain-core<0.4,>=0.3.0 in /usr/local/lib/python3.11/dist-packages (from langchain-nvidia-ai-endpoints) (0.3.51)\n",
            "Requirement already satisfied: aiohappyeyeballs>=2.3.0 in /usr/local/lib/python3.11/dist-packages (from aiohttp<4.0.0,>=3.9.1->langchain-nvidia-ai-endpoints) (2.6.1)\n",
            "Requirement already satisfied: aiosignal>=1.1.2 in /usr/local/lib/python3.11/dist-packages (from aiohttp<4.0.0,>=3.9.1->langchain-nvidia-ai-endpoints) (1.3.2)\n",
            "Requirement already satisfied: attrs>=17.3.0 in /usr/local/lib/python3.11/dist-packages (from aiohttp<4.0.0,>=3.9.1->langchain-nvidia-ai-endpoints) (25.3.0)\n",
            "Requirement already satisfied: frozenlist>=1.1.1 in /usr/local/lib/python3.11/dist-packages (from aiohttp<4.0.0,>=3.9.1->langchain-nvidia-ai-endpoints) (1.5.0)\n",
            "Requirement already satisfied: multidict<7.0,>=4.5 in /usr/local/lib/python3.11/dist-packages (from aiohttp<4.0.0,>=3.9.1->langchain-nvidia-ai-endpoints) (6.3.2)\n",
            "Requirement already satisfied: propcache>=0.2.0 in /usr/local/lib/python3.11/dist-packages (from aiohttp<4.0.0,>=3.9.1->langchain-nvidia-ai-endpoints) (0.3.1)\n",
            "Requirement already satisfied: yarl<2.0,>=1.17.0 in /usr/local/lib/python3.11/dist-packages (from aiohttp<4.0.0,>=3.9.1->langchain-nvidia-ai-endpoints) (1.18.3)\n",
            "Requirement already satisfied: langsmith<0.4,>=0.1.125 in /usr/local/lib/python3.11/dist-packages (from langchain-core<0.4,>=0.3.0->langchain-nvidia-ai-endpoints) (0.3.24)\n",
            "Requirement already satisfied: tenacity!=8.4.0,<10.0.0,>=8.1.0 in /usr/local/lib/python3.11/dist-packages (from langchain-core<0.4,>=0.3.0->langchain-nvidia-ai-endpoints) (9.1.2)\n",
            "Requirement already satisfied: jsonpatch<2.0,>=1.33 in /usr/local/lib/python3.11/dist-packages (from langchain-core<0.4,>=0.3.0->langchain-nvidia-ai-endpoints) (1.33)\n",
            "Requirement already satisfied: PyYAML>=5.3 in /usr/local/lib/python3.11/dist-packages (from langchain-core<0.4,>=0.3.0->langchain-nvidia-ai-endpoints) (6.0.2)\n",
            "Requirement already satisfied: packaging<25,>=23.2 in /usr/local/lib/python3.11/dist-packages (from langchain-core<0.4,>=0.3.0->langchain-nvidia-ai-endpoints) (24.2)\n",
            "Requirement already satisfied: typing-extensions>=4.7 in /usr/local/lib/python3.11/dist-packages (from langchain-core<0.4,>=0.3.0->langchain-nvidia-ai-endpoints) (4.13.1)\n",
            "Requirement already satisfied: pydantic<3.0.0,>=2.5.2 in /usr/local/lib/python3.11/dist-packages (from langchain-core<0.4,>=0.3.0->langchain-nvidia-ai-endpoints) (2.11.2)\n",
            "Requirement already satisfied: jsonpointer>=1.9 in /usr/local/lib/python3.11/dist-packages (from jsonpatch<2.0,>=1.33->langchain-core<0.4,>=0.3.0->langchain-nvidia-ai-endpoints) (3.0.0)\n",
            "Requirement already satisfied: httpx<1,>=0.23.0 in /usr/local/lib/python3.11/dist-packages (from langsmith<0.4,>=0.1.125->langchain-core<0.4,>=0.3.0->langchain-nvidia-ai-endpoints) (0.28.1)\n",
            "Requirement already satisfied: orjson<4.0.0,>=3.9.14 in /usr/local/lib/python3.11/dist-packages (from langsmith<0.4,>=0.1.125->langchain-core<0.4,>=0.3.0->langchain-nvidia-ai-endpoints) (3.10.16)\n",
            "Requirement already satisfied: requests<3,>=2 in /usr/local/lib/python3.11/dist-packages (from langsmith<0.4,>=0.1.125->langchain-core<0.4,>=0.3.0->langchain-nvidia-ai-endpoints) (2.32.3)\n",
            "Requirement already satisfied: requests-toolbelt<2.0.0,>=1.0.0 in /usr/local/lib/python3.11/dist-packages (from langsmith<0.4,>=0.1.125->langchain-core<0.4,>=0.3.0->langchain-nvidia-ai-endpoints) (1.0.0)\n",
            "Requirement already satisfied: zstandard<0.24.0,>=0.23.0 in /usr/local/lib/python3.11/dist-packages (from langsmith<0.4,>=0.1.125->langchain-core<0.4,>=0.3.0->langchain-nvidia-ai-endpoints) (0.23.0)\n",
            "Requirement already satisfied: annotated-types>=0.6.0 in /usr/local/lib/python3.11/dist-packages (from pydantic<3.0.0,>=2.5.2->langchain-core<0.4,>=0.3.0->langchain-nvidia-ai-endpoints) (0.7.0)\n",
            "Requirement already satisfied: pydantic-core==2.33.1 in /usr/local/lib/python3.11/dist-packages (from pydantic<3.0.0,>=2.5.2->langchain-core<0.4,>=0.3.0->langchain-nvidia-ai-endpoints) (2.33.1)\n",
            "Requirement already satisfied: typing-inspection>=0.4.0 in /usr/local/lib/python3.11/dist-packages (from pydantic<3.0.0,>=2.5.2->langchain-core<0.4,>=0.3.0->langchain-nvidia-ai-endpoints) (0.4.0)\n",
            "Requirement already satisfied: idna>=2.0 in /usr/local/lib/python3.11/dist-packages (from yarl<2.0,>=1.17.0->aiohttp<4.0.0,>=3.9.1->langchain-nvidia-ai-endpoints) (3.10)\n",
            "Requirement already satisfied: anyio in /usr/local/lib/python3.11/dist-packages (from httpx<1,>=0.23.0->langsmith<0.4,>=0.1.125->langchain-core<0.4,>=0.3.0->langchain-nvidia-ai-endpoints) (4.9.0)\n",
            "Requirement already satisfied: certifi in /usr/local/lib/python3.11/dist-packages (from httpx<1,>=0.23.0->langsmith<0.4,>=0.1.125->langchain-core<0.4,>=0.3.0->langchain-nvidia-ai-endpoints) (2025.1.31)\n",
            "Requirement already satisfied: httpcore==1.* in /usr/local/lib/python3.11/dist-packages (from httpx<1,>=0.23.0->langsmith<0.4,>=0.1.125->langchain-core<0.4,>=0.3.0->langchain-nvidia-ai-endpoints) (1.0.7)\n",
            "Requirement already satisfied: h11<0.15,>=0.13 in /usr/local/lib/python3.11/dist-packages (from httpcore==1.*->httpx<1,>=0.23.0->langsmith<0.4,>=0.1.125->langchain-core<0.4,>=0.3.0->langchain-nvidia-ai-endpoints) (0.14.0)\n",
            "Requirement already satisfied: charset-normalizer<4,>=2 in /usr/local/lib/python3.11/dist-packages (from requests<3,>=2->langsmith<0.4,>=0.1.125->langchain-core<0.4,>=0.3.0->langchain-nvidia-ai-endpoints) (3.4.1)\n",
            "Requirement already satisfied: urllib3<3,>=1.21.1 in /usr/local/lib/python3.11/dist-packages (from requests<3,>=2->langsmith<0.4,>=0.1.125->langchain-core<0.4,>=0.3.0->langchain-nvidia-ai-endpoints) (2.3.0)\n",
            "Requirement already satisfied: sniffio>=1.1 in /usr/local/lib/python3.11/dist-packages (from anyio->httpx<1,>=0.23.0->langsmith<0.4,>=0.1.125->langchain-core<0.4,>=0.3.0->langchain-nvidia-ai-endpoints) (1.3.1)\n"
          ]
        }
      ]
    },
    {
      "cell_type": "code",
      "source": [
        "from langchain_openai import ChatOpenAI\n",
        "from langchain_core.tools import tool\n",
        "from langchain_nvidia_ai_endpoints import ChatNVIDIA\n",
        "\n",
        "\n",
        "llm = ChatNVIDIA(\n",
        "    model=\"meta/llama-4-scout-17b-16e-instruct\",\n",
        "    # api_key=<NVIDIA_API_KEY>,\n",
        "    temperature=0.2,\n",
        ")\n",
        "\n",
        "\n",
        "from langchain.tools import tool\n",
        "import requests\n",
        "from bs4 import BeautifulSoup\n",
        "import regex as re\n",
        "\n",
        "@tool\n",
        "def get_sentences_from_sentencedict(words:list):\n",
        "    \"\"\"\n",
        "    Get a list of search words and Retrieve sentences for each word from sentencedict.com by fully mimicking browser behavior.\n",
        "    for each word, It includes a list of sentences or an error message in the output list.\n",
        "    input: list\n",
        "    output: list of list\n",
        "    \"\"\"\n",
        "    base_url = \"https://sentencedict.com/wordQueryDo.php\"\n",
        "\n",
        "    # Set up a session to persist cookies\n",
        "    session = requests.Session()\n",
        "\n",
        "    # 1. First, visit the homepage to set initial cookies\n",
        "    home_url = \"https://sentencedict.com/\"\n",
        "    session.get(home_url, headers={\n",
        "        \"User-Agent\": \"Mozilla/5.0 (X11; Linux x86_64) AppleWebKit/537.36 (KHTML, like Gecko) Chrome/134.0.0.0 Safari/537.36\",\n",
        "        \"Accept\": \"text/html,application/xhtml+xml,application/xml;q=0.9,image/avif,image/webp,image/apng,*/*;q=0.8,application/signed-exchange;v=b3;q=0.7\",\n",
        "        \"Accept-Language\": \"en-US,en;q=0.9\",\n",
        "        \"Referer\": \"https://www.google.com/\",\n",
        "    })\n",
        "\n",
        "    # 2. Submit the search query with proper headers & cookies\n",
        "    headers = {\n",
        "        \"User-Agent\": \"Mozilla/5.0 (X11; Linux x86_64) AppleWebKit/537.36 (KHTML, like Gecko) Chrome/134.0.0.0 Safari/537.36\",\n",
        "        \"Accept\": \"text/html,application/xhtml+xml,application/xml;q=0.9,image/avif,image/webp,image/apng,*/*;q=0.8,application/signed-exchange;v=b3;q=0.7\",\n",
        "        \"Accept-Language\": \"en-US,en;q=0.9\",\n",
        "        \"Content-Type\": \"application/x-www-form-urlencoded\",\n",
        "        \"Origin\": \"https://sentencedict.com\",\n",
        "        \"Referer\": \"https://sentencedict.com/\",  # Updated to match actual referer\n",
        "        \"Sec-Fetch-Dest\": \"document\",\n",
        "        \"Sec-Fetch-Mode\": \"navigate\",\n",
        "        \"Sec-Fetch-Site\": \"same-origin\",\n",
        "        \"Sec-Fetch-User\": \"?1\",\n",
        "        \"Upgrade-Insecure-Requests\": \"1\",\n",
        "    }\n",
        "\n",
        "    searching_results = []\n",
        "    for word in words:\n",
        "      # The website expects `word` (not `query`) as the parameter name!\n",
        "      data = {\"word\": word, \"directGo\": \"1\"}  # Critical: Forces direct results\n",
        "\n",
        "      try:\n",
        "          response = session.post(\n",
        "              base_url,\n",
        "              headers=headers,\n",
        "              data=data,\n",
        "          )\n",
        "          response.raise_for_status()\n",
        "          # print(response.text)\n",
        "          # return\n",
        "\n",
        "          soup = BeautifulSoup(response.text, \"html.parser\")\n",
        "\n",
        "          # Find the content div that contains all sentences\n",
        "          content_div = soup.find('div', id='content')\n",
        "\n",
        "          sentences = []\n",
        "          if content_div:\n",
        "              # Extract all sentence divs (they're direct children of content_div)\n",
        "              sentence_divs = content_div.find_all('div', recursive=False)\n",
        "\n",
        "              for div in sentence_divs:\n",
        "                  text = div.get_text(strip=False)\n",
        "                  # Skip if text contains \"Synonym:\", \"Meaning:\", or \"Random good picture\"\n",
        "                  if any(x in text for x in [\"Synonym:\", \"Meaning:\", \"Random good picture\", 'More similar words:']):\n",
        "                      continue\n",
        "                  # Skip empty strings\n",
        "                  if not text:\n",
        "                      continue\n",
        "                  sentences.append(text.strip())\n",
        "\n",
        "          # If the senetences varible is not full of sentences\n",
        "          if not sentences:\n",
        "              searching_results.append(\"No sentences found\")\n",
        "              continue\n",
        "              # return {\"error\": \"No sentences found in the expected format.\"}\n",
        "\n",
        "          number_pattern = re.compile('\\d+\\.\\s|\\(\\d+\\)\\s')\n",
        "          first_item = re.split(number_pattern, sentences[0])\n",
        "          # variable's items contain more than one sentence\n",
        "          if len(first_item) > 2:\n",
        "              sentences = [f\"{i}. {sentence.strip()}\" for i, sentence in enumerate(first_item) if sentence]\n",
        "          # variable's items contain one sentence\n",
        "          elif len(first_item) == 2:\n",
        "              sentences = [f\"{i}. {re.split(number_pattern, sentence)[1].strip()}\" for i, sentence in enumerate(sentences, start=1) if sentence]\n",
        "\n",
        "          searching_results.append(sentences)\n",
        "          # return {\"sentences\": sentences}\n",
        "\n",
        "      except Exception as e:\n",
        "          searching_results.append(\"Error\")\n",
        "          # return {\"error\": f\"Unexpected error: {str(e)}\", \"raw_response\": response.text}\n",
        "\n",
        "    return searching_results\n",
        "\n",
        "\n",
        "tools = [get_sentences_from_sentencedict]\n",
        "\n",
        "llm_with_tools = llm.bind_tools(tools)"
      ],
      "metadata": {
        "colab": {
          "base_uri": "https://localhost:8080/"
        },
        "id": "dJI16MfL5ve7",
        "outputId": "901944ab-2250-4a7d-d237-f403ebb5cf7e"
      },
      "execution_count": null,
      "outputs": [
        {
          "output_type": "stream",
          "name": "stderr",
          "text": [
            "/usr/local/lib/python3.11/dist-packages/langchain_nvidia_ai_endpoints/_common.py:212: UserWarning: Found meta/llama-4-scout-17b-16e-instruct in available_models, but type is unknown and inference may fail.\n",
            "  warnings.warn(\n",
            "/usr/local/lib/python3.11/dist-packages/langchain_nvidia_ai_endpoints/chat_models.py:591: UserWarning: Model 'meta/llama-4-scout-17b-16e-instruct' is not known to support tools. Your tool binding may fail at inference time.\n",
            "  warnings.warn(\n"
          ]
        }
      ]
    },
    {
      "cell_type": "markdown",
      "source": [
        "# Define nodes and edges\n",
        "Next let's define our nodes and edges. In our basic ReAct agent there are only two nodes, one for calling the model and one for using tools, however you can modify this basic structure to work better for your use case. The tool node we define here is a simplified version of the prebuilt ToolNode, which has some additional features.\n",
        "\n",
        "Perhaps you want to add a node for adding structured output or a node for executing some external action (sending an email, adding a calendar event, etc.). Maybe you just want to change the way the call_model node works and how should_continue decides whether to call tools - the possibilities are endless and LangGraph makes it easy to customize this basic structure for your specific use case."
      ],
      "metadata": {
        "id": "mXN1Rn4i7Wo7"
      }
    },
    {
      "cell_type": "code",
      "source": [
        "import json\n",
        "from langchain_core.messages import ToolMessage, SystemMessage\n",
        "from langchain_core.runnables import RunnableConfig\n",
        "\n",
        "tools_by_name = {tool.name: tool for tool in tools}\n",
        "\n",
        "\n",
        "# Define our tool node\n",
        "def tool_node(state: AgentState):\n",
        "    outputs = []\n",
        "    for tool_call in state[\"messages\"][-1].tool_calls:\n",
        "        tool_result = tools_by_name[tool_call[\"name\"]].invoke(tool_call[\"args\"])\n",
        "        outputs.append(\n",
        "            ToolMessage(\n",
        "                content=json.dumps(tool_result),\n",
        "                name=tool_call[\"name\"],\n",
        "                tool_call_id=tool_call[\"id\"],\n",
        "            )\n",
        "        )\n",
        "    return {\"messages\": outputs}\n",
        "\n",
        "\n",
        "# Define the node that calls the model\n",
        "def call_model(\n",
        "    state: AgentState,\n",
        "    config: RunnableConfig,\n",
        "):\n",
        "    # this is similar to customizing the create_react_agent with 'prompt' parameter, but is more flexible\n",
        "    system_prompt = f\"\"\"You are a helpful English tutor that creates example sentences\"\"\"\n",
        "    response = llm_with_tools.invoke([system_prompt] + state[\"messages\"], config)\n",
        "    # We return a list, because this will get added to the existing list\n",
        "    return {\"messages\": [response]}\n",
        "\n",
        "\n",
        "# Define the conditional edge that determines whether to continue or not\n",
        "def should_continue(state: AgentState):\n",
        "    messages = state[\"messages\"]\n",
        "    last_message = messages[-1]\n",
        "    # If there is no function call, then we finish\n",
        "    if not last_message.tool_calls:\n",
        "        return \"end\"\n",
        "    # Otherwise if there is, we continue\n",
        "    else:\n",
        "        return \"continue\""
      ],
      "metadata": {
        "id": "0V8qnHDR7Jrs"
      },
      "execution_count": null,
      "outputs": []
    },
    {
      "cell_type": "markdown",
      "source": [
        "# Define the graph\n",
        "Now that we have defined all of our nodes and edges, we can define and compile our graph. Depending on if you have added more nodes or different edges, you will need to edit this to fit your specific use case."
      ],
      "metadata": {
        "id": "_qBIcD8Z9c2N"
      }
    },
    {
      "cell_type": "code",
      "source": [
        "from langgraph.graph import StateGraph, END\n",
        "\n",
        "# Define a new graph\n",
        "workflow = StateGraph(AgentState)\n",
        "\n",
        "# Define the two nodes we will cycle between\n",
        "workflow.add_node(\"agent\", call_model)\n",
        "workflow.add_node(\"tools\", tool_node)\n",
        "# workflow.add_node(\"LLM\", call_model)\n",
        "\n",
        "# Set the entrypoint as `agent`\n",
        "# This means that this node is the first one called\n",
        "workflow.set_entry_point(\"agent\")\n",
        "\n",
        "# We now add a conditional edge\n",
        "workflow.add_conditional_edges(\n",
        "    # First, we define the start node. We use `agent`.\n",
        "    # This means these are the edges taken after the `agent` node is called.\n",
        "    \"agent\",\n",
        "    # Next, we pass in the function that will determine which node is called next.\n",
        "    should_continue,\n",
        "    # Finally we pass in a mapping.\n",
        "    # The keys are strings, and the values are other nodes.\n",
        "    # END is a special node marking that the graph should finish.\n",
        "    # What will happen is we will call `should_continue`, and then the output of that\n",
        "    # will be matched against the keys in this mapping.\n",
        "    # Based on which one it matches, that node will then be called.\n",
        "    {\n",
        "        # If `tools`, then we call the tool node.\n",
        "        \"continue\": \"tools\",\n",
        "        # Otherwise we finish.\n",
        "        \"end\": END,\n",
        "    },\n",
        ")\n",
        "\n",
        "# We now add a normal edge from `tools` to `agent`.\n",
        "# This means that after `tools` is called, `agent` node is called next.\n",
        "workflow.add_edge(\"tools\", \"agent\")\n",
        "workflow\n",
        "# Now we can compile and visualize our graph\n",
        "graph = workflow.compile()\n",
        "\n",
        "from IPython.display import Image, display\n",
        "\n",
        "try:\n",
        "    display(Image(graph.get_graph().draw_mermaid_png()))\n",
        "except Exception:\n",
        "    # This requires some extra dependencies and is optional\n",
        "    pass"
      ],
      "metadata": {
        "colab": {
          "base_uri": "https://localhost:8080/",
          "height": 290
        },
        "id": "H2ivY5YR9Z5b",
        "outputId": "c893aa95-ea81-4428-87fd-989181643f48"
      },
      "execution_count": null,
      "outputs": [
        {
          "output_type": "display_data",
          "data": {
            "image/png": "[encoded data removed]",
            "text/plain": [
              "<IPython.core.display.Image object>"
            ]
          },
          "metadata": {}
        }
      ]
    },
    {
      "cell_type": "markdown",
      "source": [
        "# Use ReAct agent\n",
        "Now that we have created our react agent, let's actually put it to the test!"
      ],
      "metadata": {
        "id": "2cSrTixg-Xgy"
      }
    },
    {
      "cell_type": "code",
      "source": [
        "# Helper function for formatting the stream nicely\n",
        "def print_stream(stream):\n",
        "    for s in stream:\n",
        "        message = s[\"messages\"][-1]\n",
        "        if isinstance(message, tuple):\n",
        "            print(message)\n",
        "        else:\n",
        "            message.pretty_print()\n",
        "\n",
        "words = \"['Reservation', 'Could I have', 'a dinner reservation']\"\n",
        "instructions = f\"\"\"Process the words delimited by triple backticks with the following rules STRICTLY:\n",
        "1. Processing methods:\n",
        "- If the tool returns `No sentences found` for a word, YOU MUST generate and return 10 NEW sentences for that word only\n",
        "- If the tool returns sentences for a word, include all of them EXACTLY\n",
        "- If the tool returns `Error` for a word, write 'Something went wrong.' for that word only\n",
        "2. Format the output EXACTLY as shown below\n",
        "\n",
        "use the following format for the output:\n",
        "- <word>\n",
        "1. <sentence 1>\n",
        "2. <sentence 2>\n",
        "...\n",
        "----------------\n",
        "\n",
        "Words: ```{words}``\n",
        "\n",
        "output:\n",
        "\n",
        "\"\"\"\n",
        "user_prompt = instructions + f\"Words: ```{words}```\"\n",
        "\n",
        "inputs = {\"messages\": [(\"user\", user_prompt)]}\n",
        "print_stream(graph.stream(inputs, stream_mode=\"values\"))"
      ],
      "metadata": {
        "colab": {
          "base_uri": "https://localhost:8080/"
        },
        "id": "qWTHSodN-GVr",
        "outputId": "e4d42a84-2456-4384-a6bb-588fb33e5d83"
      },
      "execution_count": null,
      "outputs": [
        {
          "output_type": "stream",
          "name": "stdout",
          "text": [
            "================================\u001b[1m Human Message \u001b[0m=================================\n",
            "\n",
            "Process the words delimited by triple backticks with the following rules STRICTLY:\n",
            "1. Processing methods:\n",
            "- If the tool returns `No sentences found` for a word , YOU MUST generate and return 10 NEW sentences for that word only\n",
            "- If the tool returns sentences for a word, include all of them EXACTLY\n",
            "- If the tool returns `Error` for a word, write 'Something went wrong.' for that word only\n",
            "2. Format the output EXACTLY as shown below\n",
            "\n",
            "use the following format for the output:\n",
            "- <word>\n",
            "1. <sentence 1>\n",
            "2. <sentence 2>\n",
            "...\n",
            "----------------\n",
            "\n",
            "Words: ```['Reservation', 'Could I have', 'a dinner reservation']``\n",
            "\n",
            "output:\n",
            "\n",
            "Words: ```['Reservation', 'Could I have', 'a dinner reservation']```\n",
            "==================================\u001b[1m Ai Message \u001b[0m==================================\n",
            "Tool Calls:\n",
            "  get_sentences_from_sentencedict (chatcmpl-tool-63c5d422065e4f9b963802fcefb10965)\n",
            " Call ID: chatcmpl-tool-63c5d422065e4f9b963802fcefb10965\n",
            "  Args:\n",
            "    words: ['Reservation', 'Could I have', 'a dinner reservation']\n",
            "=================================\u001b[1m Tool Message \u001b[0m=================================\n",
            "Name: get_sentences_from_sentencedict\n",
            "\n",
            "[[\"1. I took the liberty of cancelling your reservation.\", \"2. I'll call the restaurant and make a reservation.\", \"3. Please write to confirm your reservation .\", \"4. I'm sorry, but I have to cancel my reservation.\", \"5. Can I make a reservation?\", \"6. Do you have a reservation?\", \"7. Is reservation necessary at that restaurant?\", \"8. Would you make a reservation for golf?\", \"9. Do I need a reservation?\", \"10. What time can we make a reservation?\", \"11. I made a reservation for tonight.\", \"12. Please make a reservation for golf.\", \"13. I told him my main reservation about his film was the ending.\", \"14. I'd like to make a reservation for eight people at six o'clock tonight.\", \"15. Computerized reservation systems help airline profits in several ways.\", \"16. They contemplate trouble in obtaining hotel reservation.\", \"17. He went to the desk to make a reservation.\", \"18. They support the measures without reservation .\", \"19. He's the chief warden of a big-game reservation.\", \"20. The family lives on a Native American reservation.\", \"21. Seventeen thousand Indians live in Arizona on a reservation.\", \"22. He accepted my advice without reservation.\", \"23. I can recommend her without reservation.\", \"24. We can hold your reservation for three days.\", \"25. I phoned the hotel to cancel my reservation.\", \"26. We condemn their actions without reservation .\", \"27. Please confirm your reservation in writing by Friday.\", \"28. Call up and make a reservation for 8 o'clock.\", \"29. I'd like to make a reservation for four people for Friday night,(sentencedict.com) please.\", \"30. You make the reservation, and I'll confirm it in writing.\"], [\"1. Could I have a smidgen more wine?\", \"2. Could I have a menu, please?\", \"3. Could I have a glass of water, please?\", \"4. Could I have extension number 103?\", \"5. Could I have the salt, please?\", \"6. Could I have your number?\", \"7. Could I have the sugar, please?\", \"8. Could I have a subway map, please?\", \"9. Could I have the bill please?\", \"10. Could I have three first-class stamps, please?\", \"11. Here's one hundred yen. Could I have change?\", \"12. Ladies and gentlemen, could I have your attention, please?\", \"13. Could I have a receipt for that please?\", \"14. Could I have change?\", \"15. Could I have two cups of coffee and a tea, please?\", \"16. Could I have a drink of water, please?\", \"17. Could I have a word about the sales figures?\", \"18. Could I have tuna instead of ham?\", \"19. Could I have a lift into town?\", \"20. Could I have a word with you in private?\", \"21. Could I have your attention, ladies and gentlemen?\", \"22. Could I have something non-alcoholic, like orange juice, please?\", \"23. Could I have a word with you, old man?\", \"24. Could I have a quick word with you ?\", \"25. Could I have ten copies of this page, please?\", \"26. Could I have two beers and a Perrier, please?\", \"27. Could I have a word?\", \"28. Could I have a few words with you?\", \"29. Could I have a word with you, if you're not too busy?\", \"30. Could I have a drop more milk in my coffee, please?\", \"31. I'm sorry to be a bother, but could I have that number again?\", \"32. How could I have lived on without you to bear me up?\", \"33. Where under the sun could I have put the purse?\", \"34. Could I have a cigarette? I seem to have run out.\", \"35. Could I have a word with you when you've got a spare moment/minute?\", \"36. How could I have divined that he would wish to retire so soon?\", \"37. Could I have some catsup?\", \"38. Could I have your autograph?\", \"39. Could I have your name and your date of birth please?\", \"40. It seemed a dream come true-what more could I have asked for?\"], \"No sentences found\"]\n",
            "==================================\u001b[1m Ai Message \u001b[0m==================================\n",
            "Tool Calls:\n",
            "  get_sentences_from_sentencedict (chatcmpl-tool-f17ebb644e2e4174a2ca1f75677a32c8)\n",
            " Call ID: chatcmpl-tool-f17ebb644e2e4174a2ca1f75677a32c8\n",
            "  Args:\n",
            "    words: ['Reservation', 'Could I have', 'a dinner reservation']\n",
            "=================================\u001b[1m Tool Message \u001b[0m=================================\n",
            "Name: get_sentences_from_sentencedict\n",
            "\n",
            "[[\"1. I took the liberty of cancelling your reservation.\", \"2. I'll call the restaurant and make a reservation.\", \"3. Please write to confirm your reservation .\", \"4. I'm sorry, but I have to cancel my reservation.\", \"5. Can I make a reservation?\", \"6. Do you have a reservation?\", \"7. Is reservation necessary at that restaurant?\", \"8. Would you make a reservation for golf?\", \"9. Do I need a reservation?\", \"10. What time can we make a reservation?\", \"11. I made a reservation for tonight.\", \"12. Please make a reservation for golf.\", \"13. I told him my main reservation about his film was the ending.\", \"14. I'd like to make a reservation for eight people at six o'clock tonight.\", \"15. Computerized reservation systems help airline profits in several ways.\", \"16. They contemplate trouble in obtaining hotel reservation.\", \"17. He went to the desk to make a reservation.\", \"18. They support the measures without reservation .\", \"19. He's the chief warden of a big-game reservation.\", \"20. The family lives on a Native American reservation.\", \"21. Seventeen thousand Indians live in Arizona on a reservation.\", \"22. He accepted my advice without reservation.\", \"23. I can recommend her without reservation.\", \"24. We can hold your reservation for three days.\", \"25. I phoned the hotel to cancel my reservation.\", \"26. We condemn their actions without reservation .\", \"27. Please confirm your reservation in writing by Friday.\", \"28. Call up and make a reservation for 8 o'clock.\", \"29. I'd like to make a reservation for four people for Friday night,(sentencedict.com) please.\", \"30. You make the reservation, and I'll confirm it in writing.\"], [\"1. Could I have a smidgen more wine?\", \"2. Could I have a menu, please?\", \"3. Could I have a glass of water, please?\", \"4. Could I have extension number 103?\", \"5. Could I have the salt, please?\", \"6. Could I have your number?\", \"7. Could I have the sugar, please?\", \"8. Could I have a subway map, please?\", \"9. Could I have the bill please?\", \"10. Could I have three first-class stamps, please?\", \"11. Here's one hundred yen. Could I have change?\", \"12. Ladies and gentlemen, could I have your attention, please?\", \"13. Could I have a receipt for that please?\", \"14. Could I have change?\", \"15. Could I have two cups of coffee and a tea, please?\", \"16. Could I have a drink of water, please?\", \"17. Could I have a word about the sales figures?\", \"18. Could I have tuna instead of ham?\", \"19. Could I have a lift into town?\", \"20. Could I have a word with you in private?\", \"21. Could I have your attention, ladies and gentlemen?\", \"22. Could I have something non-alcoholic, like orange juice, please?\", \"23. Could I have a word with you, old man?\", \"24. Could I have a quick word with you ?\", \"25. Could I have ten copies of this page, please?\", \"26. Could I have two beers and a Perrier, please?\", \"27. Could I have a word?\", \"28. Could I have a few words with you?\", \"29. Could I have a word with you, if you're not too busy?\", \"30. Could I have a drop more milk in my coffee, please?\", \"31. I'm sorry to be a bother, but could I have that number again?\", \"32. How could I have lived on without you to bear me up?\", \"33. Where under the sun could I have put the purse?\", \"34. Could I have a cigarette? I seem to have run out.\", \"35. Could I have a word with you when you've got a spare moment/minute?\", \"36. How could I have divined that he would wish to retire so soon?\", \"37. Could I have some catsup?\", \"38. Could I have your autograph?\", \"39. Could I have your name and your date of birth please?\", \"40. It seemed a dream come true-what more could I have asked for?\"], \"No sentences found\"]\n",
            "==================================\u001b[1m Ai Message \u001b[0m==================================\n",
            "\n",
            "Words: ```['Reservation', 'Could I have', 'a dinner reservation']```\n",
            "- Reservation\n",
            "1. I took the liberty of cancelling your reservation.\n",
            "2. I'll call the restaurant and make a reservation.\n",
            "3. Please write to confirm your reservation .\n",
            "4. I'm sorry, but I have to cancel my reservation.\n",
            "5. Can I make a reservation?\n",
            "6. Do you have a reservation?\n",
            "7. Is reservation necessary at that restaurant?\n",
            "8. Would you make a reservation for golf?\n",
            "9. Do I need a reservation?\n",
            "10. What time can we make a reservation?\n",
            "11. I made a reservation for tonight.\n",
            "12. Please make a reservation for golf.\n",
            "13. I told him my main reservation about his film was the ending.\n",
            "14. I'd like to make a reservation for eight people at six o'clock tonight.\n",
            "15. Computerized reservation systems help airline profits in several ways.\n",
            "16. They contemplate trouble in obtaining hotel reservation.\n",
            "17. He went to the desk to make a reservation.\n",
            "18. They support the measures without reservation .\n",
            "19. He's the chief warden of a big-game reservation.\n",
            "20. The family lives on a Native American reservation.\n",
            "21. Seventeen thousand Indians live in Arizona on a reservation.\n",
            "22. He accepted my advice without reservation.\n",
            "23. I can recommend her without reservation.\n",
            "24. We can hold your reservation for three days.\n",
            "25. I phoned the hotel to cancel my reservation.\n",
            "26. We condemn their actions without reservation .\n",
            "27. Please confirm your reservation in writing by Friday.\n",
            "28. Call up and make a reservation for 8 o'clock.\n",
            "29. I'd like to make a reservation for four people for Friday night,(sentencedict.com) please.\n",
            "30. You make the reservation, and I'll confirm it in writing.\n",
            "----------------\n",
            "- Could I have\n",
            "1. Could I have a smidgen more wine?\n",
            "2. Could I have a menu, please?\n",
            "3. Could I have a glass of water, please?\n",
            "4. Could I have extension number 103?\n",
            "5. Could I have the salt, please?\n",
            "6. Could I have your number?\n",
            "7. Could I have the sugar, please?\n",
            "8. Could I have a subway map, please?\n",
            "9. Could I have the bill please?\n",
            "10. Could I have three first-class stamps, please?\n",
            "11. Here's one hundred yen. Could I have change?\n",
            "12. Ladies and gentlemen, could I have your attention, please?\n",
            "13. Could I have a receipt for that please?\n",
            "14. Could I have change?\n",
            "15. Could I have two cups of coffee and a tea, please?\n",
            "16. Could I have a drink of water, please?\n",
            "17. Could I have a word about the sales figures?\n",
            "18. Could I have tuna instead of ham?\n",
            "19. Could I have a lift into town?\n",
            "20. Could I have a word with you in private?\n",
            "21. Could I have your attention, ladies and gentlemen?\n",
            "22. Could I have something non-alcoholic, like orange juice, please?\n",
            "23. Could I have a word with you, old man?\n",
            "24. Could I have a quick word with you ?\n",
            "25. Could I have ten copies of this page, please?\n",
            "26. Could I have two beers and a Perrier, please?\n",
            "27. Could I have a word?\n",
            "28. Could I have a few words with you?\n",
            "29. Could I have a word with you, if you're not too busy?\n",
            "30. Could I have a drop more milk in my coffee, please?\n",
            "31. I'm sorry to be a bother, but could I have that number again?\n",
            "32. How could I have lived on without you to bear me up?\n",
            "33. Where under the sun could I have put the purse?\n",
            "34. Could I have a cigarette? I seem to have run out.\n",
            "35. Could I have a word with you when you've got a spare moment/minute?\n",
            "36. How could I have divined that he would wish to retire so soon?\n",
            "37. Could I have some catsup?\n",
            "38. Could I have your autograph?\n",
            "39. Could I have your name and your date of birth please?\n",
            "40. It seemed a dream come true-what more could I have asked for?\n",
            "----------------\n",
            "- a dinner reservation\n",
            "No sentences found\n",
            "1. I'd like to make a reservation for dinner, please.\n",
            "2. Can I make a reservation for dinner?\n",
            "3. I'd like to book a table for dinner, can I make a reservation?\n",
            "4. Could we make a reservation for dinner at 7 o'clock?\n",
            "5. Is it possible to make a reservation for dinner?\n",
            "6. I'd like to make a reservation for three people for dinner.\n",
            "7. Can we make a reservation for dinner at 8 o'clock?\n",
            "8. I'd like to make a reservation for dinner at 6 o'clock.\n",
            "9. Can I make a reservation for dinner now?\n",
            "10. I'd like to make a reservation for dinner at 7:30.\n"
          ]
        }
      ]
    },
    {
      "cell_type": "code",
      "source": [],
      "metadata": {
        "id": "uWe2jPAR_9MG"
      },
      "execution_count": null,
      "outputs": []
    }
  ]
}